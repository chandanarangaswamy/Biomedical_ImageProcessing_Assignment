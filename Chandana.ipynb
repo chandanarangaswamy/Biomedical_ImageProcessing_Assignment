{
 "cells": [
  {
   "cell_type": "markdown",
   "metadata": {},
   "source": [
    "# AssignmentLecture2ConceptsIP_Chandana"
   ]
  },
  {
   "cell_type": "markdown",
   "metadata": {},
   "source": [
    "# EQUALIZE_HIST\n",
    "Syntax :\n",
    "equalize_hist(image, nbins=1024, mask==True)\n",
    "\n",
    "Parameters :\n",
    "\n",
    "1)image : array\n",
    "\n",
    "2)nbins : int (This represents the Number of bins for image histogram and this argument is ignored for integer images, for which each integer is its own bin )\n",
    "\n",
    "3)mask: array of bools or 0s and 1s (Array of same shape as `image`.Only points at which mask == True\n",
    "\n",
    "are used for the equalization, which is applied to the whole image)\n",
    "\n",
    "Explanation :\n",
    "\n",
    "equalize_hist function performs histogram equalization. It enhances the contrast of images by transforming the values in an intensity image so that the histogram of the output image approximately matches a specified histogram (uniform distribution by default).\n",
    "This Histogram Equalization is operated on the entire image."
   ]
  },
  {
   "cell_type": "markdown",
   "metadata": {},
   "source": [
    "# EQUALIZE_ADAPTHIST\n",
    "Syntax : skimage.exposure.equalize_adapthist(image, kernel_size=None, clip_limit=0.01, nbins=1024)\n",
    "\n",
    "Parameters :\n",
    "\n",
    "1)image : (M, N, [C]) ndarray\n",
    "\n",
    "2)kernel_size: integer or list-like (It defines the shape of contextual regions used in the algorithm )\n",
    "\n",
    "3)clip_limit : float (Clipping limit, normalized between 0 and 1 (higher values give more contrast))\n",
    "\n",
    "4)nbins : int (Number of gray bins for histogram (“data range”))\n",
    "\n",
    "Explanation :\n",
    "\n",
    "equalize_adapthist performs contrast-limited adaptive histogram equalization. Unlike histeq, it operates on small data regions (tiles) rather than the entire image. Each tile's contrast is enhanced so that the histogram of each output region approximately matches the specified histogram (uniform distribution by default). The contrast enhancement can be limited in order to avoid amplifying the noise which might be present in the image.\n"
   ]
  },
  {
   "cell_type": "markdown",
   "metadata": {},
   "source": [
    "# Histogram Equalization Vs Adaptive Histogram Equalization\n",
    "\n",
    "\n",
    "The Adaptive Histogram Equalization can be useful over Standard Histogram Equalization when there is a need for observing Smaller details in the image.\n",
    "In Anatomy, every detail counts and therefore Adaptive Histogram Equalization is preferred to Standard Histgram Equalization."
   ]
  },
  {
   "cell_type": "markdown",
   "metadata": {},
   "source": [
    "# 02 INVESTIGATION ASSIGNMENT"
   ]
  },
  {
   "cell_type": "markdown",
   "metadata": {},
   "source": [
    "# IMAGE ENHANCEMENT TECHNIQUE\n",
    "\n",
    "The principle objective of Image Enhancement Techniques is to process an image so that the result is more suitable than the original image for a specific application.\n",
    "\n",
    "\n"
   ]
  },
  {
   "cell_type": "markdown",
   "metadata": {},
   "source": [
    "# Noise removal using a Wiener filter :\n",
    "\n",
    "\n",
    "Here is a step-by-step description of how this technique is carried out :\n",
    "\n",
    "\n",
    "Step 1: Read Image\n",
    "\n",
    "Step 2:Simulate a Motion Blur\n",
    "\n",
    "Step 3:Restore the Blurred Image\n",
    "\n",
    "Step 4:Simulate Blur and Noise\n",
    "\n",
    "Step 5:Restore the Blurred and Noisy Image: First Attempt\n",
    "\n",
    "Step 6:Simulate Blur and 8-Bit Quantization Noise\n",
    "\n",
    "Step 7:Restore the Blurred, Quantized Image: First Attempt\n",
    "\n",
    "\n",
    "\n",
    "\n"
   ]
  },
  {
   "cell_type": "markdown",
   "metadata": {},
   "source": [
    "a)The technique is used for the Deblurring of images.\n",
    "\n",
    "\n",
    "Example :\n",
    "\n",
    " 1)Let us Simulate a Motion Blur first\n",
    " Simulate a blurred image that you might get from camera motion. Create a point-spread function, PSF, corresponding to the     linear motion across 31 pixels (LEN=31), at an angle of 11 degrees (THETA=11). To simulate the blur, convolve the filter with the image using imfilter.\n",
    "\n",
    "   LEN = 21;\n",
    "   THETA = 11;\n",
    "   PSF = fspecial('motion', LEN, THETA);\n",
    "   blurred = imfilter(I, PSF, 'conv', 'circular');\n",
    "   imshow(blurred);\n",
    "   title('Blurred Image');\n",
    " 2)Then we Restore the Image from thhe Blurred Image\n",
    "   The simplest syntax for deconvwnr is deconvwnr(A, PSF, NSR), where A is the blurred image, PSF is the point-spread function,    and NSR is the noise-power-to-signal-power ratio. The blurred image formed in Step 2 has no noise, so we'll use 0 for NSR.\n",
    "\n",
    "   wnr1 = deconvwnr(blurred, PSF, 0);\n",
    "   imshow(wnr1);\n",
    "   title('Restored Image')\n",
    "\n",
    "\n",
    "\n",
    "b) The function \"deconvwnr(blurred, PSF, 0)\" can be used to Deblur the Image.\n",
    "\n",
    "\n",
    "Syntax :\n",
    "\n",
    "wnr1 = deconvwnr(blurred, PSF, NSR)\n",
    "\n",
    "Parameters :\n",
    "\n",
    " 1)blurred = It refers to the Blurred image\n",
    " 2)PSF = it is the Point Spread Function\n",
    " 3)NSR = Signal To Noise Ratio.\n",
    " \n",
    " \n",
    " \n",
    "\n",
    "c)Yes.This Image Enhancement Technique can be useful to Extarct useful information from Blurred images that are unclear or vague.\n",
    "\n",
    "\n",
    "\n",
    "\n",
    "d) 'Adaptive Wavelet Wiener Filtering of ECG Signals' (http://ieeexplore.ieee.org/document/6357230/) by\n",
    "\n",
    "\n",
    "Authors :\n",
    "\n",
    "\n",
    "1) L. Smital\n",
    "Dept. of Biomed. Eng., Brno Univ. of Technol., Brno, Czech Republic\n",
    "\n",
    "\n",
    "2) Martin Vítek\n",
    "Dept. of Biomed. Eng., Brno Univ. of Technol., Brno, Czech Republic\n",
    "\n",
    "\n",
    "3) Jiří Kozumplík\n",
    "Dept. of Biomed. Eng., Brno Univ. of Technol., Brno, Czech Republic\n",
    "\n",
    "\n",
    "4) Ivo Provazník\n",
    "Dept. of Biomed. Eng., Brno Univ. of Technol., Brno, Czech Republic\n"
   ]
  }
 ],
 "metadata": {
  "kernelspec": {
   "display_name": "Python 2",
   "language": "python",
   "name": "python2"
  },
  "language_info": {
   "codemirror_mode": {
    "name": "ipython",
    "version": 2
   },
   "file_extension": ".py",
   "mimetype": "text/x-python",
   "name": "python",
   "nbconvert_exporter": "python",
   "pygments_lexer": "ipython2",
   "version": "2.7.13"
  }
 },
 "nbformat": 4,
 "nbformat_minor": 2
}
